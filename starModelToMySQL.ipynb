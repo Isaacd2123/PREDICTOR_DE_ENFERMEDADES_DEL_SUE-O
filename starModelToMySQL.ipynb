{
 "cells": [
  {
   "cell_type": "code",
   "execution_count": 58,
   "id": "bce78fc5-1034-4f1e-bbe0-ef1f30af5dd2",
   "metadata": {},
   "outputs": [],
   "source": [
    "from pyspark.sql import SparkSession, Window\n",
    "import pyspark.sql.functions as F\n",
    "from pyspark.sql.types import StringType, IntegerType, FloatType"
   ]
  },
  {
   "cell_type": "markdown",
   "id": "464fedf2-6959-493e-b931-7b06f3a66532",
   "metadata": {},
   "source": [
    "### Iniciamos una sesión de Spark y leemos el csv"
   ]
  },
  {
   "cell_type": "code",
   "execution_count": 2,
   "id": "6b867f35-d14d-485f-9b30-c99de3e68a59",
   "metadata": {},
   "outputs": [
    {
     "name": "stdout",
     "output_type": "stream",
     "text": [
      "root\n",
      " |-- Person ID: integer (nullable = true)\n",
      " |-- Gender: string (nullable = true)\n",
      " |-- Age: integer (nullable = true)\n",
      " |-- Occupation: string (nullable = true)\n",
      " |-- Sleep Duration: double (nullable = true)\n",
      " |-- Quality of Sleep: integer (nullable = true)\n",
      " |-- Physical Activity Level: integer (nullable = true)\n",
      " |-- Stress Level: integer (nullable = true)\n",
      " |-- BMI Category: string (nullable = true)\n",
      " |-- Blood Pressure: string (nullable = true)\n",
      " |-- Heart Rate: integer (nullable = true)\n",
      " |-- Daily Steps: integer (nullable = true)\n",
      " |-- Sleep Disorder: string (nullable = true)\n",
      "\n"
     ]
    }
   ],
   "source": [
    "spark = SparkSession.builder.getOrCreate()\n",
    "csv_path = \"file:///home/jovyan/work/Sleep_health_and_lifestyle_dataset.csv\"\n",
    "data = spark.read.csv(csv_path, header=True, inferSchema=True)\n",
    "data.printSchema()"
   ]
  },
  {
   "cell_type": "code",
   "execution_count": 59,
   "id": "7a6a5004-3f4c-4e3c-93ea-06ea7f8a6818",
   "metadata": {},
   "outputs": [],
   "source": [
    "data.createOrReplaceTempView(\"temp_table\")"
   ]
  },
  {
   "cell_type": "markdown",
   "id": "0cc28653-17e2-4049-8c33-471d8e4d8127",
   "metadata": {},
   "source": [
    "### Definimos las funciones que realizaran la limpieza de datos"
   ]
  },
  {
   "cell_type": "code",
   "execution_count": 4,
   "id": "35104509-32ba-465a-9333-ace3a46a8e12",
   "metadata": {},
   "outputs": [],
   "source": [
    "def numerar_filas(df, column, distinct=True):\n",
    "    window = Window.orderBy(column)\n",
    "    column_with_numbers = df.withColumn(\"id \"+column, F.dense_rank().over(window))\n",
    "    if distinct:\n",
    "        return column_with_numbers.distinct() \n",
    "    else: \n",
    "        return column_with_numbers\n",
    "\n",
    "def check_duplicates(data, column):\n",
    "    duplicates = data.groupBy(column).count().filter(F.col(\"count\") > 1)\n",
    "    if duplicates.count() != 0:\n",
    "        print(\"Hay duplicados\")\n",
    "        print(f\"Nº de duplicados: {duplicates.count()}\")\n",
    "        data = data.withColumn(column, F.col(column)).dropDuplicates() \n",
    "    return data\n",
    "\n",
    "def limpiado(data, id_column, columnas_float, columnas_union, columnas_num): \n",
    "    data = data.withColumn('Sleep Duration', F.col('Sleep Duration').cast('float'))\n",
    "    \n",
    "    data = data.withColumn(columnas_union, F.when(F.col(columnas_union).isin(['Normal', 'Normal Weight']), 'Normal Weight') \\\n",
    "                           .otherwise(F.col(columnas_union))) \n",
    "    \n",
    "    data = data.withColumn('Sistolic pressure', F.split(F.col(columnas_float), '/').getItem(0).cast('float')) \n",
    "    data = data.withColumn('Diastolic pressure', F.split(F.col(columnas_float), '/').getItem(1).cast('float'))\n",
    "\n",
    "    for col in columnas_num:\n",
    "        data = numerar_filas(data, col, distinct = False)\n",
    "        \n",
    "    data = check_duplicates(data, id_column)\n",
    "    \n",
    "    return data"
   ]
  },
  {
   "cell_type": "markdown",
   "id": "2f303ad3-f05c-453b-b115-cb7be1957287",
   "metadata": {},
   "source": [
    "### Definimos las funciones que verificaran pruebas de:\n",
    "- Unicidad\n",
    "- Integridad\n",
    "- Consistencia\n",
    "- Validez\n",
    "- Completitud"
   ]
  },
  {
   "cell_type": "code",
   "execution_count": 55,
   "id": "5fce7b20-addc-4a18-9670-5bc09bc46427",
   "metadata": {},
   "outputs": [],
   "source": [
    "def verificar_tipado(df):\n",
    "    tipos_correctos = {\n",
    "        'Person ID': IntegerType(),               'Gender': StringType(),\n",
    "        'Age': IntegerType(),                     'Occupation': StringType(),\n",
    "        'Sleep Duration': FloatType(),            'Quality of Sleep': IntegerType(),\n",
    "        'Physical Activity Level': IntegerType(), 'Stress Level': IntegerType(),\n",
    "        'BMI Category': StringType(),             'Blood Pressure': StringType(),\n",
    "        'Heart Rate': IntegerType(),              'Daily Steps': IntegerType(),\n",
    "        'Sleep Disorder': StringType(),           'Sistolic pressure': FloatType(),\n",
    "        'Diastolic pressure': FloatType(),        'id Sleep Disorder': IntegerType(), \n",
    "        'id Gender': IntegerType(),               'id Occupation': IntegerType(), \n",
    "        'id BMI Category': IntegerType()\n",
    "    }\n",
    "    for columna, tipo in tipos_correctos.items():\n",
    "        if df.schema[columna].dataType != tipo:\n",
    "            print(f'La columna {columna} tiene tipado incorrecto: \\\n",
    "                 {tipo} en lugar de {df.schema[columna].dataType}')\n",
    "    return True\n",
    "\n",
    "def verificar_numero_registros(df, tabla_bd):\n",
    "    registros_df = df.count()\n",
    "    sleep_table = spark.read \\\n",
    "    .format(\"jdbc\") \\\n",
    "    .option(\"url\", url) \\\n",
    "    .option(\"dbtable\", tabla_bd) \\\n",
    "    .options(**properties) \\\n",
    "    .load()\n",
    "    \n",
    "    registros_bd = sleep_table.count()\n",
    "    if registros_df == registros_bd:\n",
    "        print(f'Coinciden el nº de registros en df {registros_df} con registros en bd {registros_bd}')\n",
    "    else: \n",
    "        print(f'No coinciden el nº de {registros_df} con {registros_bd}')\n",
    "\n",
    "def verificar_nulos(df):\n",
    "    for column in data.columns:\n",
    "        if df.filter(F.col(column).isNull()).count() > 0: \n",
    "            print(f\"Hay {df.filter(F.col(column).isNull()).count()} nulos en la columna {column}\")\n",
    "        else:\n",
    "            print(\"No hay nulos\")\n",
    "\n",
    "def verificar_duplicados(df):\n",
    "    return df.dropDuplicates().count() == df.count()"
   ]
  },
  {
   "cell_type": "code",
   "execution_count": 6,
   "id": "3e4e0fdd-339a-4cac-9189-18dbd8edee53",
   "metadata": {},
   "outputs": [
    {
     "name": "stdout",
     "output_type": "stream",
     "text": [
      "root\n",
      " |-- Person ID: integer (nullable = true)\n",
      " |-- Gender: string (nullable = true)\n",
      " |-- Age: integer (nullable = true)\n",
      " |-- Occupation: string (nullable = true)\n",
      " |-- Sleep Duration: float (nullable = true)\n",
      " |-- Quality of Sleep: integer (nullable = true)\n",
      " |-- Physical Activity Level: integer (nullable = true)\n",
      " |-- Stress Level: integer (nullable = true)\n",
      " |-- BMI Category: string (nullable = true)\n",
      " |-- Blood Pressure: string (nullable = true)\n",
      " |-- Heart Rate: integer (nullable = true)\n",
      " |-- Daily Steps: integer (nullable = true)\n",
      " |-- Sleep Disorder: string (nullable = true)\n",
      " |-- Sistolic pressure: float (nullable = true)\n",
      " |-- Diastolic pressure: float (nullable = true)\n",
      " |-- id Sleep Disorder: integer (nullable = false)\n",
      " |-- id Gender: integer (nullable = false)\n",
      " |-- id Occupation: integer (nullable = false)\n",
      " |-- id BMI Category: integer (nullable = false)\n",
      "\n"
     ]
    }
   ],
   "source": [
    "id_column = \"Person ID\"\n",
    "columnas_float = \"Blood Pressure\"\n",
    "columnas_union = \"BMI Category\"\n",
    "columnas_num = [\"Sleep Disorder\", \"Gender\", \"Occupation\", \"BMI Category\"]\n",
    "data = limpiado(data, id_column, columnas_float, columnas_union, columnas_num)\n",
    "data.printSchema()"
   ]
  },
  {
   "cell_type": "code",
   "execution_count": 56,
   "id": "49631f2d-4aea-4ce0-86d0-e2a199de09d0",
   "metadata": {},
   "outputs": [
    {
     "name": "stdout",
     "output_type": "stream",
     "text": [
      "No hay nulos\n",
      "No hay nulos\n",
      "No hay nulos\n",
      "No hay nulos\n",
      "No hay nulos\n",
      "No hay nulos\n",
      "No hay nulos\n",
      "No hay nulos\n",
      "No hay nulos\n",
      "No hay nulos\n",
      "No hay nulos\n",
      "No hay nulos\n",
      "No hay nulos\n",
      "No hay nulos\n",
      "No hay nulos\n",
      "No hay nulos\n",
      "No hay nulos\n",
      "No hay nulos\n",
      "No hay nulos\n"
     ]
    }
   ],
   "source": [
    "verificar_nulos(data)"
   ]
  },
  {
   "cell_type": "code",
   "execution_count": 9,
   "id": "f8af493f-ee97-42bc-ab47-64309f02e929",
   "metadata": {},
   "outputs": [
    {
     "data": {
      "text/plain": [
       "True"
      ]
     },
     "execution_count": 9,
     "metadata": {},
     "output_type": "execute_result"
    }
   ],
   "source": [
    "verificar_tipado(data)"
   ]
  },
  {
   "cell_type": "code",
   "execution_count": 10,
   "id": "ffd71ea5-790f-4a1f-9d6d-f9c82fad9cc7",
   "metadata": {},
   "outputs": [
    {
     "data": {
      "text/plain": [
       "True"
      ]
     },
     "execution_count": 10,
     "metadata": {},
     "output_type": "execute_result"
    }
   ],
   "source": [
    "verificar_duplicados(data)"
   ]
  },
  {
   "cell_type": "code",
   "execution_count": 12,
   "id": "1c970a6b-8ac5-4519-a113-aa8c464f797c",
   "metadata": {},
   "outputs": [
    {
     "name": "stdout",
     "output_type": "stream",
     "text": [
      "+------+---------+\n",
      "|Gender|id Gender|\n",
      "+------+---------+\n",
      "|Female|        1|\n",
      "|  Male|        2|\n",
      "+------+---------+\n",
      "\n"
     ]
    }
   ],
   "source": [
    "sel_col = data.select(\"Gender\")\n",
    "df_gender = numerar_filas(sel_col, \"Gender\")\n",
    "df_gender.show()"
   ]
  },
  {
   "cell_type": "code",
   "execution_count": 13,
   "id": "42827d51-d7fc-42fc-bfb8-35dc46b304ba",
   "metadata": {},
   "outputs": [
    {
     "name": "stdout",
     "output_type": "stream",
     "text": [
      "+--------------+-----------------+\n",
      "|Sleep Disorder|id Sleep Disorder|\n",
      "+--------------+-----------------+\n",
      "|      Insomnia|                1|\n",
      "|          None|                2|\n",
      "|   Sleep Apnea|                3|\n",
      "+--------------+-----------------+\n",
      "\n"
     ]
    }
   ],
   "source": [
    "sel_col = data.select(\"Sleep Disorder\")\n",
    "df_sleep_disorder = numerar_filas(sel_col, \"Sleep Disorder\")\n",
    "df_sleep_disorder.show()"
   ]
  },
  {
   "cell_type": "code",
   "execution_count": 14,
   "id": "d52d1de2-3c05-4cbb-825f-f8cfd0055c96",
   "metadata": {},
   "outputs": [
    {
     "name": "stdout",
     "output_type": "stream",
     "text": [
      "+-------------+---------------+\n",
      "| BMI category|id BMI category|\n",
      "+-------------+---------------+\n",
      "|Normal Weight|              1|\n",
      "|        Obese|              2|\n",
      "|   Overweight|              3|\n",
      "+-------------+---------------+\n",
      "\n"
     ]
    }
   ],
   "source": [
    "sel_col = data.select(\"BMI category\")\n",
    "df_bmi_category = numerar_filas(sel_col, \"BMI category\")\n",
    "df_bmi_category.show()"
   ]
  },
  {
   "cell_type": "code",
   "execution_count": 15,
   "id": "fdfefe08-4845-4346-80ea-f3d9a6df4b1d",
   "metadata": {},
   "outputs": [
    {
     "name": "stdout",
     "output_type": "stream",
     "text": [
      "+--------------------+-------------+\n",
      "|          Occupation|id Occupation|\n",
      "+--------------------+-------------+\n",
      "|          Accountant|            1|\n",
      "|              Doctor|            2|\n",
      "|            Engineer|            3|\n",
      "|              Lawyer|            4|\n",
      "|             Manager|            5|\n",
      "|               Nurse|            6|\n",
      "|Sales Representative|            7|\n",
      "|         Salesperson|            8|\n",
      "|           Scientist|            9|\n",
      "|   Software Engineer|           10|\n",
      "|             Teacher|           11|\n",
      "+--------------------+-------------+\n",
      "\n"
     ]
    }
   ],
   "source": [
    "sel_col = data.select(\"Occupation\")\n",
    "df_occupation = numerar_filas(sel_col, \"Occupation\")\n",
    "df_occupation.show()"
   ]
  },
  {
   "cell_type": "code",
   "execution_count": 16,
   "id": "8c6c80fd-5250-4731-a782-3ebc3fbefd3d",
   "metadata": {},
   "outputs": [],
   "source": [
    "tabla_hechos         = 'facts'\n",
    "tabla_dim_occupation = 'occupation'\n",
    "tabla_dim_gender     = 'gender'\n",
    "tabla_dim_bmi        = 'bmi'\n",
    "tabla_dim_disorder   = 'disorder'"
   ]
  },
  {
   "cell_type": "code",
   "execution_count": 17,
   "id": "eec7e3e1-d64e-4fae-8daf-5d3036e619fe",
   "metadata": {},
   "outputs": [],
   "source": [
    "url = \"jdbc:mysql://172.29.192.1:3306/sleep\"\n",
    "properties = {\n",
    "    \"driver\"   : \"com.mysql.jdbc.Driver\",\n",
    "    \"user\"     : \"jose\",\n",
    "    \"password\" : \"abc1234\"\n",
    "    }"
   ]
  },
  {
   "cell_type": "code",
   "execution_count": 22,
   "id": "901ba73d-b9bd-47a2-9e98-2b13f278421b",
   "metadata": {},
   "outputs": [],
   "source": [
    "cols = [\"Person ID\", \"id Gender\", \"id Occupation\", \"Age\", \"Sleep Duration\", \"Quality of Sleep\", \"Physical Activity Level\", \"Stress Level\",\n",
    "        \"Heart Rate\", \"Daily Steps\", \"id Sleep Disorder\", \"id BMI Category\", \"Sistolic pressure\", \"Diastolic Pressure\"]\n",
    "data.select(cols).write.format(\"jdbc\") \\\n",
    "    .option(\"url\", url) \\\n",
    "    .option(\"dbtable\", tabla_hechos) \\\n",
    "    .options(**properties) \\\n",
    "    .save()"
   ]
  },
  {
   "cell_type": "code",
   "execution_count": 23,
   "id": "274da9e6-e32e-4eae-874c-d135aa696ce2",
   "metadata": {},
   "outputs": [],
   "source": [
    "dict_tb = {\n",
    "    tabla_dim_gender    : df_gender,\n",
    "    tabla_dim_disorder  : df_sleep_disorder,\n",
    "    tabla_dim_bmi       : df_bmi_category,\n",
    "    tabla_dim_occupation: df_occupation\n",
    "}\n",
    "for tb, df in dict_tb.items():\n",
    "    df.select(\"*\").write.format(\"jdbc\") \\\n",
    "    .option(\"url\", url) \\\n",
    "    .option(\"dbtable\", tb) \\\n",
    "    .options(**properties) \\\n",
    "    .save()"
   ]
  },
  {
   "cell_type": "code",
   "execution_count": 44,
   "id": "eb8d4e0e-d9bb-49e0-b9bf-8e4a9c284dee",
   "metadata": {},
   "outputs": [],
   "source": [
    "def verificar_relaciones(tabla_pk, pk, tabla_fk, fk):\n",
    "    upperbound_dim = data.agg(F.max(fk)).collect()[0][0]\n",
    "    lowerbound_dim = data.agg(F.min(fk)).collect()[0][0]\n",
    "    upperbound_hechos = data.agg(F.max(pk)).collect()[0][0]\n",
    "    lowerbound_hechos = data.agg(F.min(pk)).collect()[0][0]\n",
    "    \n",
    "    hechos_id = spark.read.format(\"jdbc\") \\\n",
    "                .option(\"url\", url) \\\n",
    "                .option(\"dbtable\", tabla_pk) \\\n",
    "                .option(\"partitionColumn\", pk) \\\n",
    "                .option(\"lowerBound\", lowerbound_hechos) \\\n",
    "                .option(\"upperBound\", upperbound_hechos) \\\n",
    "                .option(\"numPartitions\", 1) \\\n",
    "                .options(**properties) \\\n",
    "                .load()\n",
    "    dim_id = spark.read.format(\"jdbc\") \\\n",
    "             .option(\"url\", url) \\\n",
    "             .option(\"dbtable\", tabla_fk) \\\n",
    "             .option(\"partitionColumn\", fk) \\\n",
    "             .option(\"lowerBound\", lowerbound_dim) \\\n",
    "             .option(\"upperBound\", upperbound_dim) \\\n",
    "             .option(\"numPartitions\", 1) \\\n",
    "             .options(**properties) \\\n",
    "             .load()\n",
    "\n",
    "    # Verificar la consistencia entre PK y FK\n",
    "    consistencia    = dim_id.join(hechos_id, dim_id[fk] == hechos_id[pk], \"leftanti\")\n",
    "\n",
    "    # Mostrar los registros inconsistentes\n",
    "    if consistencia.count() > 0:\n",
    "        return print(f\"No hay consistencias entre las claves: {cosistencia}\")\n",
    "    else:\n",
    "        return \"Hay consistencia entre las claves\""
   ]
  },
  {
   "cell_type": "code",
   "execution_count": 45,
   "id": "46508a61-dc10-4d16-b7ce-7ea048b29f83",
   "metadata": {},
   "outputs": [
    {
     "data": {
      "text/plain": [
       "'Hay consistencia entre las claves'"
      ]
     },
     "execution_count": 45,
     "metadata": {},
     "output_type": "execute_result"
    }
   ],
   "source": [
    "verificar_relaciones(tabla_hechos, \"Person ID\", tabla_dim_disorder, \"id Sleep Disorder\")"
   ]
  },
  {
   "cell_type": "code",
   "execution_count": 54,
   "id": "4dbec1ff-7543-45b7-9ce6-b6b5f9cc2d59",
   "metadata": {},
   "outputs": [
    {
     "name": "stdout",
     "output_type": "stream",
     "text": [
      "Coinciden el nº de registros en df 374 con registros en bd 374\n"
     ]
    }
   ],
   "source": [
    "verificar_numero_registros(data, 'facts')"
   ]
  }
 ],
 "metadata": {
  "kernelspec": {
   "display_name": "Python 3 (ipykernel)",
   "language": "python",
   "name": "python3"
  },
  "language_info": {
   "codemirror_mode": {
    "name": "ipython",
    "version": 3
   },
   "file_extension": ".py",
   "mimetype": "text/x-python",
   "name": "python",
   "nbconvert_exporter": "python",
   "pygments_lexer": "ipython3",
   "version": "3.11.3"
  }
 },
 "nbformat": 4,
 "nbformat_minor": 5
}
